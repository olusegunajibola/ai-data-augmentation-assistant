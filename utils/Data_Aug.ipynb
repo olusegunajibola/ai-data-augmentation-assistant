{
 "cells": [
  {
   "metadata": {},
   "cell_type": "markdown",
   "source": [
    "# Data Augmentation\n",
    "\n",
    "Here we balance out the datasets using https://groq.com/ free API."
   ],
   "id": "145e2782e0c3ee0b"
  },
  {
   "metadata": {
    "ExecuteTime": {
     "end_time": "2024-12-23T16:52:05.321992Z",
     "start_time": "2024-12-23T16:52:03.841417Z"
    }
   },
   "cell_type": "code",
   "source": [
    "import os\n",
    "import pandas as pd\n",
    "from groq import Groq"
   ],
   "id": "initial_id",
   "outputs": [],
   "execution_count": 1
  },
  {
   "metadata": {
    "ExecuteTime": {
     "end_time": "2024-12-23T16:52:06.075786Z",
     "start_time": "2024-12-23T16:52:05.349967Z"
    }
   },
   "cell_type": "code",
   "source": [
    "# Set up your Groq client\n",
    "client = Groq(api_key=os.getenv('GROQ_API_KEY'))\n",
    "print(client)"
   ],
   "id": "e1072644494aaa26",
   "outputs": [
    {
     "name": "stdout",
     "output_type": "stream",
     "text": [
      "<groq.Groq object at 0x0000019592E92B50>\n"
     ]
    }
   ],
   "execution_count": 2
  },
  {
   "metadata": {},
   "cell_type": "markdown",
   "source": "Read dataframe.",
   "id": "205bd2477c0174b8"
  },
  {
   "metadata": {
    "ExecuteTime": {
     "end_time": "2024-12-23T16:59:26.911915Z",
     "start_time": "2024-12-23T16:59:26.884662Z"
    }
   },
   "cell_type": "code",
   "source": [
    "news = pd.read_csv('../data/financial_news.csv',\n",
    "                   names=['sentiment', 'news'])"
   ],
   "id": "a253c22cb627827a",
   "outputs": [],
   "execution_count": 11
  },
  {
   "metadata": {
    "ExecuteTime": {
     "end_time": "2024-12-23T17:05:37.664024Z",
     "start_time": "2024-12-23T17:05:37.644464Z"
    }
   },
   "cell_type": "code",
   "source": [
    " # Select 10 positive news\n",
    "positive_news = news[news['sentiment'] == 'positive'].sample(10)\n",
    "# Select 5 negative news\n",
    "negative_news = news[news['sentiment'] == 'negative'].sample(6)\n",
    "\n",
    "# Combine the results\n",
    "selected_news = pd.concat([positive_news, negative_news])"
   ],
   "id": "85d3cdf091b0560f",
   "outputs": [],
   "execution_count": 13
  },
  {
   "metadata": {
    "ExecuteTime": {
     "end_time": "2024-12-23T17:05:43.137722Z",
     "start_time": "2024-12-23T17:05:43.124829Z"
    }
   },
   "cell_type": "code",
   "source": "selected_news.to_csv('../data/selected_news.csv', index=False)",
   "id": "53dc773c4e726e64",
   "outputs": [],
   "execution_count": 14
  },
  {
   "metadata": {
    "ExecuteTime": {
     "end_time": "2024-12-23T17:05:45.127120Z",
     "start_time": "2024-12-23T17:05:45.114149Z"
    }
   },
   "cell_type": "code",
   "source": "selected_news",
   "id": "6772860f36ade54c",
   "outputs": [
    {
     "data": {
      "text/plain": [
       "     sentiment                                               news\n",
       "913   positive  This is Done Logistics ' largest order in Norw...\n",
       "2282  positive  Growth was strongest in F-Secure 's operator I...\n",
       "329   positive               EPS grew to 0.04 eur from 0.02 eur .\n",
       "1184  positive  Atria Group is a leading Scandinavian meat pro...\n",
       "556   positive  STX Finland Oy signed a a preliminary agreemen...\n",
       "107   positive  In Lithuania , operating profit rose to EUR 19...\n",
       "1282  positive              ( I&H ) in a move to enhance growth .\n",
       "3808  positive  The company will use the assets for strengthen...\n",
       "202   positive  First quarter underlying operating profit rose...\n",
       "2175  positive  Pretax profit totalled EUR 2.0 mn , compared t...\n",
       "4733  negative  However , its market share shrank to 47.59 per...\n",
       "4737  negative  In food trade , sales amounted to EUR320 .1 m ...\n",
       "2797  negative  Also the city 's insurance company , If P & C ...\n",
       "4732  negative  Group EBIT for the first half was EUR13 .6 m U...\n",
       "4213  negative  Last year , UPM cut production , closed mills ...\n",
       "4289  negative  When the web user clicks on the link contained..."
      ],
      "text/html": [
       "<div>\n",
       "<style scoped>\n",
       "    .dataframe tbody tr th:only-of-type {\n",
       "        vertical-align: middle;\n",
       "    }\n",
       "\n",
       "    .dataframe tbody tr th {\n",
       "        vertical-align: top;\n",
       "    }\n",
       "\n",
       "    .dataframe thead th {\n",
       "        text-align: right;\n",
       "    }\n",
       "</style>\n",
       "<table border=\"1\" class=\"dataframe\">\n",
       "  <thead>\n",
       "    <tr style=\"text-align: right;\">\n",
       "      <th></th>\n",
       "      <th>sentiment</th>\n",
       "      <th>news</th>\n",
       "    </tr>\n",
       "  </thead>\n",
       "  <tbody>\n",
       "    <tr>\n",
       "      <th>913</th>\n",
       "      <td>positive</td>\n",
       "      <td>This is Done Logistics ' largest order in Norw...</td>\n",
       "    </tr>\n",
       "    <tr>\n",
       "      <th>2282</th>\n",
       "      <td>positive</td>\n",
       "      <td>Growth was strongest in F-Secure 's operator I...</td>\n",
       "    </tr>\n",
       "    <tr>\n",
       "      <th>329</th>\n",
       "      <td>positive</td>\n",
       "      <td>EPS grew to 0.04 eur from 0.02 eur .</td>\n",
       "    </tr>\n",
       "    <tr>\n",
       "      <th>1184</th>\n",
       "      <td>positive</td>\n",
       "      <td>Atria Group is a leading Scandinavian meat pro...</td>\n",
       "    </tr>\n",
       "    <tr>\n",
       "      <th>556</th>\n",
       "      <td>positive</td>\n",
       "      <td>STX Finland Oy signed a a preliminary agreemen...</td>\n",
       "    </tr>\n",
       "    <tr>\n",
       "      <th>107</th>\n",
       "      <td>positive</td>\n",
       "      <td>In Lithuania , operating profit rose to EUR 19...</td>\n",
       "    </tr>\n",
       "    <tr>\n",
       "      <th>1282</th>\n",
       "      <td>positive</td>\n",
       "      <td>( I&amp;H ) in a move to enhance growth .</td>\n",
       "    </tr>\n",
       "    <tr>\n",
       "      <th>3808</th>\n",
       "      <td>positive</td>\n",
       "      <td>The company will use the assets for strengthen...</td>\n",
       "    </tr>\n",
       "    <tr>\n",
       "      <th>202</th>\n",
       "      <td>positive</td>\n",
       "      <td>First quarter underlying operating profit rose...</td>\n",
       "    </tr>\n",
       "    <tr>\n",
       "      <th>2175</th>\n",
       "      <td>positive</td>\n",
       "      <td>Pretax profit totalled EUR 2.0 mn , compared t...</td>\n",
       "    </tr>\n",
       "    <tr>\n",
       "      <th>4733</th>\n",
       "      <td>negative</td>\n",
       "      <td>However , its market share shrank to 47.59 per...</td>\n",
       "    </tr>\n",
       "    <tr>\n",
       "      <th>4737</th>\n",
       "      <td>negative</td>\n",
       "      <td>In food trade , sales amounted to EUR320 .1 m ...</td>\n",
       "    </tr>\n",
       "    <tr>\n",
       "      <th>2797</th>\n",
       "      <td>negative</td>\n",
       "      <td>Also the city 's insurance company , If P &amp; C ...</td>\n",
       "    </tr>\n",
       "    <tr>\n",
       "      <th>4732</th>\n",
       "      <td>negative</td>\n",
       "      <td>Group EBIT for the first half was EUR13 .6 m U...</td>\n",
       "    </tr>\n",
       "    <tr>\n",
       "      <th>4213</th>\n",
       "      <td>negative</td>\n",
       "      <td>Last year , UPM cut production , closed mills ...</td>\n",
       "    </tr>\n",
       "    <tr>\n",
       "      <th>4289</th>\n",
       "      <td>negative</td>\n",
       "      <td>When the web user clicks on the link contained...</td>\n",
       "    </tr>\n",
       "  </tbody>\n",
       "</table>\n",
       "</div>"
      ]
     },
     "execution_count": 15,
     "metadata": {},
     "output_type": "execute_result"
    }
   ],
   "execution_count": 15
  },
  {
   "metadata": {},
   "cell_type": "markdown",
   "source": "Now we do data augmentation for the selected texts, by making the value of negative news equal that of the positive.",
   "id": "59f704fe282609b0"
  },
  {
   "metadata": {
    "ExecuteTime": {
     "end_time": "2024-12-23T17:07:21.767789Z",
     "start_time": "2024-12-23T17:07:21.752023Z"
    }
   },
   "cell_type": "code",
   "source": "selected_news.sentiment.value_counts()",
   "id": "f74dea99e6a323b4",
   "outputs": [
    {
     "data": {
      "text/plain": [
       "sentiment\n",
       "positive    10\n",
       "negative     6\n",
       "Name: count, dtype: int64"
      ]
     },
     "execution_count": 16,
     "metadata": {},
     "output_type": "execute_result"
    }
   ],
   "execution_count": 16
  },
  {
   "metadata": {
    "ExecuteTime": {
     "end_time": "2024-12-23T17:09:37.016565Z",
     "start_time": "2024-12-23T17:09:37.010294Z"
    }
   },
   "cell_type": "code",
   "source": "df = selected_news.copy()",
   "id": "782607c345d72cc6",
   "outputs": [],
   "execution_count": 17
  },
  {
   "metadata": {
    "ExecuteTime": {
     "end_time": "2024-12-23T17:11:11.281933Z",
     "start_time": "2024-12-23T17:11:11.273891Z"
    }
   },
   "cell_type": "code",
   "source": [
    "# Number of rows we want for label negative\n",
    "target_rows_label_negative = 10\n",
    "\n",
    "# Find underrepresented rows (label == 0)\n",
    "underrepresented_texts = df[df['sentiment'] == 'negative']['news'].tolist()\n",
    "\n",
    "# Number of examples we currently have for label 0\n",
    "current_rows_label_negative = len(underrepresented_texts)\n",
    "\n",
    "# Number of additional examples we need\n",
    "needed_examples = target_rows_label_negative - current_rows_label_negative"
   ],
   "id": "98fbcf9663afc260",
   "outputs": [],
   "execution_count": 19
  },
  {
   "metadata": {
    "ExecuteTime": {
     "end_time": "2024-12-23T17:11:17.895104Z",
     "start_time": "2024-12-23T17:11:17.887061Z"
    }
   },
   "cell_type": "code",
   "source": "underrepresented_texts",
   "id": "349e5cefcebd4c39",
   "outputs": [
    {
     "data": {
      "text/plain": [
       "['However , its market share shrank to 47.59 per cent from 48 per cent a year earlier .',\n",
       " 'In food trade , sales amounted to EUR320 .1 m , a decline of 1.1 % .',\n",
       " \"Also the city 's insurance company , If P & C Insurance , has said it will not pay compensation .\",\n",
       " 'Group EBIT for the first half was EUR13 .6 m US$ 17.8 m , falling short of the EUR22 .5 m it posted for the same period of 2009 .',\n",
       " 'Last year , UPM cut production , closed mills in Finland and slashed 700 jobs .',\n",
       " 'When the web user clicks on the link contained in the mail , he finds himself on a bogus site that imitates that of his bank , and which retrieves his personal banking data .']"
      ]
     },
     "execution_count": 20,
     "metadata": {},
     "output_type": "execute_result"
    }
   ],
   "execution_count": 20
  },
  {
   "metadata": {
    "ExecuteTime": {
     "end_time": "2024-12-23T17:12:28.351568Z",
     "start_time": "2024-12-23T17:12:26.828331Z"
    }
   },
   "cell_type": "code",
   "source": [
    "# Augment the underrepresented class with new examples\n",
    "augmented_texts = []\n",
    "for i in range(needed_examples):\n",
    "    # Select a random text from the underrepresented class to augment\n",
    "    text = underrepresented_texts[i % current_rows_label_negative]  # Cycle through available texts if needed\n",
    "    \n",
    "    response = client.chat.completions.create(\n",
    "        messages=[\n",
    "            {\"role\": \"system\", \"content\": \"You are a data augmentation assistant.\"},\n",
    "            {\"role\": \"user\", \"content\": f\"Generate a concise headline similar to: {text} and reply with response only without quotes\"},\n",
    "        ],\n",
    "        model=\"llama3-8b-8192\"\n",
    "    )\n",
    "    \n",
    "    # Get the augmented text from the response\n",
    "    augmented_data = response.choices[0].message.content\n",
    "    augmented_texts.append(augmented_data)"
   ],
   "id": "b4f6ac62d6aa0cf9",
   "outputs": [],
   "execution_count": 21
  },
  {
   "metadata": {
    "ExecuteTime": {
     "end_time": "2024-12-23T17:12:34.000776Z",
     "start_time": "2024-12-23T17:12:33.985865Z"
    }
   },
   "cell_type": "code",
   "source": [
    "# Create a new DataFrame for the augmented data\n",
    "augmented_df = pd.DataFrame({\n",
    "    'news': augmented_texts,\n",
    "    'sentiment': ['negative'] * needed_examples  # Label the new examples as 0\n",
    "})\n",
    "\n",
    "# Combine the original and augmented DataFrames\n",
    "balanced_df = pd.concat([df, augmented_df], ignore_index=True)\n",
    "\n",
    "# Display the balanced DataFrame\n",
    "# print(balanced_df)"
   ],
   "id": "8fc881e700f3919c",
   "outputs": [
    {
     "name": "stdout",
     "output_type": "stream",
     "text": [
      "   sentiment                                               news\n",
      "0   positive  This is Done Logistics ' largest order in Norw...\n",
      "1   positive  Growth was strongest in F-Secure 's operator I...\n",
      "2   positive               EPS grew to 0.04 eur from 0.02 eur .\n",
      "3   positive  Atria Group is a leading Scandinavian meat pro...\n",
      "4   positive  STX Finland Oy signed a a preliminary agreemen...\n",
      "5   positive  In Lithuania , operating profit rose to EUR 19...\n",
      "6   positive              ( I&H ) in a move to enhance growth .\n",
      "7   positive  The company will use the assets for strengthen...\n",
      "8   positive  First quarter underlying operating profit rose...\n",
      "9   positive  Pretax profit totalled EUR 2.0 mn , compared t...\n",
      "10  negative  However , its market share shrank to 47.59 per...\n",
      "11  negative  In food trade , sales amounted to EUR320 .1 m ...\n",
      "12  negative  Also the city 's insurance company , If P & C ...\n",
      "13  negative  Group EBIT for the first half was EUR13 .6 m U...\n",
      "14  negative  Last year , UPM cut production , closed mills ...\n",
      "15  negative  When the web user clicks on the link contained...\n",
      "16  negative  Company's market share decreases by 0.41 perce...\n",
      "17  negative  Retail Sales Decline 1.1%, Reaching EUR320.1 M...\n",
      "18  negative         Insurance Company Refuses to Cover Damages\n",
      "19  negative  Company Experiences Decline in EBIT for First ...\n"
     ]
    }
   ],
   "execution_count": 22
  },
  {
   "metadata": {
    "ExecuteTime": {
     "end_time": "2024-12-23T17:12:49.799001Z",
     "start_time": "2024-12-23T17:12:49.786603Z"
    }
   },
   "cell_type": "code",
   "source": "balanced_df",
   "id": "2fe81b9a08b19b89",
   "outputs": [
    {
     "data": {
      "text/plain": [
       "   sentiment                                               news\n",
       "0   positive  This is Done Logistics ' largest order in Norw...\n",
       "1   positive  Growth was strongest in F-Secure 's operator I...\n",
       "2   positive               EPS grew to 0.04 eur from 0.02 eur .\n",
       "3   positive  Atria Group is a leading Scandinavian meat pro...\n",
       "4   positive  STX Finland Oy signed a a preliminary agreemen...\n",
       "5   positive  In Lithuania , operating profit rose to EUR 19...\n",
       "6   positive              ( I&H ) in a move to enhance growth .\n",
       "7   positive  The company will use the assets for strengthen...\n",
       "8   positive  First quarter underlying operating profit rose...\n",
       "9   positive  Pretax profit totalled EUR 2.0 mn , compared t...\n",
       "10  negative  However , its market share shrank to 47.59 per...\n",
       "11  negative  In food trade , sales amounted to EUR320 .1 m ...\n",
       "12  negative  Also the city 's insurance company , If P & C ...\n",
       "13  negative  Group EBIT for the first half was EUR13 .6 m U...\n",
       "14  negative  Last year , UPM cut production , closed mills ...\n",
       "15  negative  When the web user clicks on the link contained...\n",
       "16  negative  Company's market share decreases by 0.41 perce...\n",
       "17  negative  Retail Sales Decline 1.1%, Reaching EUR320.1 M...\n",
       "18  negative         Insurance Company Refuses to Cover Damages\n",
       "19  negative  Company Experiences Decline in EBIT for First ..."
      ],
      "text/html": [
       "<div>\n",
       "<style scoped>\n",
       "    .dataframe tbody tr th:only-of-type {\n",
       "        vertical-align: middle;\n",
       "    }\n",
       "\n",
       "    .dataframe tbody tr th {\n",
       "        vertical-align: top;\n",
       "    }\n",
       "\n",
       "    .dataframe thead th {\n",
       "        text-align: right;\n",
       "    }\n",
       "</style>\n",
       "<table border=\"1\" class=\"dataframe\">\n",
       "  <thead>\n",
       "    <tr style=\"text-align: right;\">\n",
       "      <th></th>\n",
       "      <th>sentiment</th>\n",
       "      <th>news</th>\n",
       "    </tr>\n",
       "  </thead>\n",
       "  <tbody>\n",
       "    <tr>\n",
       "      <th>0</th>\n",
       "      <td>positive</td>\n",
       "      <td>This is Done Logistics ' largest order in Norw...</td>\n",
       "    </tr>\n",
       "    <tr>\n",
       "      <th>1</th>\n",
       "      <td>positive</td>\n",
       "      <td>Growth was strongest in F-Secure 's operator I...</td>\n",
       "    </tr>\n",
       "    <tr>\n",
       "      <th>2</th>\n",
       "      <td>positive</td>\n",
       "      <td>EPS grew to 0.04 eur from 0.02 eur .</td>\n",
       "    </tr>\n",
       "    <tr>\n",
       "      <th>3</th>\n",
       "      <td>positive</td>\n",
       "      <td>Atria Group is a leading Scandinavian meat pro...</td>\n",
       "    </tr>\n",
       "    <tr>\n",
       "      <th>4</th>\n",
       "      <td>positive</td>\n",
       "      <td>STX Finland Oy signed a a preliminary agreemen...</td>\n",
       "    </tr>\n",
       "    <tr>\n",
       "      <th>5</th>\n",
       "      <td>positive</td>\n",
       "      <td>In Lithuania , operating profit rose to EUR 19...</td>\n",
       "    </tr>\n",
       "    <tr>\n",
       "      <th>6</th>\n",
       "      <td>positive</td>\n",
       "      <td>( I&amp;H ) in a move to enhance growth .</td>\n",
       "    </tr>\n",
       "    <tr>\n",
       "      <th>7</th>\n",
       "      <td>positive</td>\n",
       "      <td>The company will use the assets for strengthen...</td>\n",
       "    </tr>\n",
       "    <tr>\n",
       "      <th>8</th>\n",
       "      <td>positive</td>\n",
       "      <td>First quarter underlying operating profit rose...</td>\n",
       "    </tr>\n",
       "    <tr>\n",
       "      <th>9</th>\n",
       "      <td>positive</td>\n",
       "      <td>Pretax profit totalled EUR 2.0 mn , compared t...</td>\n",
       "    </tr>\n",
       "    <tr>\n",
       "      <th>10</th>\n",
       "      <td>negative</td>\n",
       "      <td>However , its market share shrank to 47.59 per...</td>\n",
       "    </tr>\n",
       "    <tr>\n",
       "      <th>11</th>\n",
       "      <td>negative</td>\n",
       "      <td>In food trade , sales amounted to EUR320 .1 m ...</td>\n",
       "    </tr>\n",
       "    <tr>\n",
       "      <th>12</th>\n",
       "      <td>negative</td>\n",
       "      <td>Also the city 's insurance company , If P &amp; C ...</td>\n",
       "    </tr>\n",
       "    <tr>\n",
       "      <th>13</th>\n",
       "      <td>negative</td>\n",
       "      <td>Group EBIT for the first half was EUR13 .6 m U...</td>\n",
       "    </tr>\n",
       "    <tr>\n",
       "      <th>14</th>\n",
       "      <td>negative</td>\n",
       "      <td>Last year , UPM cut production , closed mills ...</td>\n",
       "    </tr>\n",
       "    <tr>\n",
       "      <th>15</th>\n",
       "      <td>negative</td>\n",
       "      <td>When the web user clicks on the link contained...</td>\n",
       "    </tr>\n",
       "    <tr>\n",
       "      <th>16</th>\n",
       "      <td>negative</td>\n",
       "      <td>Company's market share decreases by 0.41 perce...</td>\n",
       "    </tr>\n",
       "    <tr>\n",
       "      <th>17</th>\n",
       "      <td>negative</td>\n",
       "      <td>Retail Sales Decline 1.1%, Reaching EUR320.1 M...</td>\n",
       "    </tr>\n",
       "    <tr>\n",
       "      <th>18</th>\n",
       "      <td>negative</td>\n",
       "      <td>Insurance Company Refuses to Cover Damages</td>\n",
       "    </tr>\n",
       "    <tr>\n",
       "      <th>19</th>\n",
       "      <td>negative</td>\n",
       "      <td>Company Experiences Decline in EBIT for First ...</td>\n",
       "    </tr>\n",
       "  </tbody>\n",
       "</table>\n",
       "</div>"
      ]
     },
     "execution_count": 23,
     "metadata": {},
     "output_type": "execute_result"
    }
   ],
   "execution_count": 23
  },
  {
   "metadata": {
    "ExecuteTime": {
     "end_time": "2024-12-23T17:14:43.606139Z",
     "start_time": "2024-12-23T17:14:43.597126Z"
    }
   },
   "cell_type": "code",
   "source": "balanced_df.sentiment.value_counts()",
   "id": "77b0f7237aa2af82",
   "outputs": [
    {
     "data": {
      "text/plain": [
       "sentiment\n",
       "positive    10\n",
       "negative    10\n",
       "Name: count, dtype: int64"
      ]
     },
     "execution_count": 26,
     "metadata": {},
     "output_type": "execute_result"
    }
   ],
   "execution_count": 26
  },
  {
   "metadata": {
    "ExecuteTime": {
     "end_time": "2024-12-23T17:14:07.821294Z",
     "start_time": "2024-12-23T17:14:07.812232Z"
    }
   },
   "cell_type": "code",
   "source": "balanced_df.to_csv('../data/balanced_news.csv', index=False)",
   "id": "ad20cedeed9d1744",
   "outputs": [],
   "execution_count": 24
  },
  {
   "metadata": {},
   "cell_type": "markdown",
   "source": "This approach can be applied to other text based applications.",
   "id": "8d6a065ccb0d5a43"
  },
  {
   "metadata": {},
   "cell_type": "code",
   "outputs": [],
   "execution_count": null,
   "source": "",
   "id": "545a1f4e1bc078c9"
  }
 ],
 "metadata": {
  "kernelspec": {
   "display_name": "Python 3",
   "language": "python",
   "name": "python3"
  },
  "language_info": {
   "codemirror_mode": {
    "name": "ipython",
    "version": 2
   },
   "file_extension": ".py",
   "mimetype": "text/x-python",
   "name": "python",
   "nbconvert_exporter": "python",
   "pygments_lexer": "ipython2",
   "version": "2.7.6"
  }
 },
 "nbformat": 4,
 "nbformat_minor": 5
}
